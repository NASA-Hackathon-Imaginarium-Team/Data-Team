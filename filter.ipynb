{
 "cells": [
  {
   "cell_type": "code",
   "execution_count": null,
   "id": "b6287c8d",
   "metadata": {},
   "outputs": [],
   "source": [
    "# keplar cleaning script\n",
    "\n",
    "import pandas as pd\n",
    "\n",
    "# Read the Kepler dataset, skipping comment lines\n",
    "df = pd.read_csv('Kepler Objects of Interest.csv', comment='#')\n",
    "\n",
    "print(f\"Original dataset size: {len(df)} rows\")\n",
    "print(f\"koi_disposition value counts:\")\n",
    "print(df['koi_disposition'].value_counts())\n",
    "\n",
    "# Drop rows where koi_disposition is CANDIDATE\n",
    "df_filtered = df[df['koi_disposition'] != 'CANDIDATE']\n",
    "# drop koi_pdisposition column\n",
    "df_filtered = df_filtered.drop(columns=['koi_pdisposition'])\n",
    "df_filtered = df_filtered.drop(columns=['kepler_name'])\n",
    "df_filtered = df_filtered.drop(columns=['kepoi_name'])\n",
    "\n",
    "print(f\"\\nFiltered dataset size: {len(df_filtered)} rows\")\n",
    "print(f\"Rows removed: {len(df) - len(df_filtered)}\")\n",
    "\n",
    "# Save to CSV\n",
    "output_file = 'Kepler Objects of Interest - Filtered.csv'\n",
    "df_filtered.to_csv(output_file, index=False)\n",
    "print(f\"\\nFiltered data saved to '{output_file}'\")\n"
   ]
  },
  {
   "cell_type": "code",
   "execution_count": 1,
   "id": "6ffdc380",
   "metadata": {},
   "outputs": [
    {
     "name": "stdout",
     "output_type": "stream",
     "text": [
      "Original dataset size: 7703 rows\n",
      "tfopwg_disp value counts:\n",
      "tfopwg_disp\n",
      "PC     4679\n",
      "FP     1197\n",
      "CP      684\n",
      "KP      583\n",
      "APC     462\n",
      "FA       98\n",
      "Name: count, dtype: int64\n",
      "\n",
      "Filtered dataset size: 7019 rows\n",
      "Rows removed: 684\n",
      "\n",
      "Filtered data saved to 'TESS Objects of Interest - Filtered.csv'\n"
     ]
    }
   ],
   "source": [
    "# tess cleaning script\n",
    "\n",
    "import pandas as pd\n",
    "\n",
    "# Read the TESS dataset, skipping comment lines\n",
    "df = pd.read_csv('tess data.csv', comment='#')\n",
    "\n",
    "print(f\"Original dataset size: {len(df)} rows\")\n",
    "print(f\"tfopwg_disp value counts:\")\n",
    "print(df['tfopwg_disp'].value_counts())\n",
    "\n",
    "# Drop rows where tfopwg_disp is not KP or CP\n",
    "df_filtered = df[df['tfopwg_disp'] != 'KP']\n",
    "df_filtered = df[df['tfopwg_disp'] != 'CP']\n",
    "# drop tfopwg_disp column\n",
    "df_filtered = df_filtered.drop(columns=['toi', 'tid', ])\n",
    "\n",
    "print(f\"\\nFiltered dataset size: {len(df_filtered)} rows\")\n",
    "print(f\"Rows removed: {len(df) - len(df_filtered)}\")\n",
    "\n",
    "# Save to CSV\n",
    "output_file = 'TESS Objects of Interest - Filtered.csv'\n",
    "df_filtered.to_csv(output_file, index=False)\n",
    "print(f\"\\nFiltered data saved to '{output_file}'\")\n"
   ]
  },
  {
   "cell_type": "code",
   "execution_count": null,
   "id": "b8384498",
   "metadata": {},
   "outputs": [
    {
     "name": "stdout",
     "output_type": "stream",
     "text": [
      "Original dataset size: 4004 rows\n",
      "disposition value counts:\n",
      "disposition\n",
      "CONFIRMED         2315\n",
      "CANDIDATE         1374\n",
      "FALSE POSITIVE     293\n",
      "REFUTED             22\n",
      "Name: count, dtype: int64\n",
      "\n",
      "Filtered dataset size: 1689 rows\n",
      "Rows removed: 2315\n",
      "\n",
      "Filtered data saved to 'K2 Planets and Candidates - Filtered.csv'\n"
     ]
    }
   ],
   "source": [
    "# tess cleaning script\n",
    "\n",
    "import pandas as pd\n",
    "\n",
    "# Read the TESS dataset, skipping comment lines\n",
    "df = pd.read_csv('k2 planets and candidates.csv', comment='#')\n",
    "\n",
    "print(f\"Original dataset size: {len(df)} rows\")\n",
    "print(f\"disposition value counts:\")\n",
    "print(df['disposition'].value_counts())\n",
    "\n",
    "# Drop rows where disposition is CONFIRMED\n",
    "df_filtered = df[df['disposition'] != 'CONFIRMED']\n",
    "# drop disposition column\n",
    "df_filtered = df_filtered.drop(columns=['pl_name', 'hostname', 'default_flag'])\n",
    "\n",
    "print(f\"\\nFiltered dataset size: {len(df_filtered)} rows\")\n",
    "print(f\"Rows removed: {len(df) - len(df_filtered)}\")\n",
    "\n",
    "# Save to CSV\n",
    "output_file = 'K2 Planets and Candidates - Filtered.csv'\n",
    "df_filtered.to_csv(output_file, index=False)\n",
    "print(f\"\\nFiltered data saved to '{output_file}'\")\n"
   ]
  }
 ],
 "metadata": {
  "kernelspec": {
   "display_name": "data-cleaning",
   "language": "python",
   "name": "python3"
  },
  "language_info": {
   "codemirror_mode": {
    "name": "ipython",
    "version": 3
   },
   "file_extension": ".py",
   "mimetype": "text/x-python",
   "name": "python",
   "nbconvert_exporter": "python",
   "pygments_lexer": "ipython3",
   "version": "3.12.9"
  }
 },
 "nbformat": 4,
 "nbformat_minor": 5
}
