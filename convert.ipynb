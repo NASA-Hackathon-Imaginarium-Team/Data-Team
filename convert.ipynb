{
 "cells": [
  {
   "cell_type": "code",
   "execution_count": 78,
   "id": "b13e8418-9a6d-4d32-89cf-4f32bff5b791",
   "metadata": {},
   "outputs": [],
   "source": [
    "# --- Cell 1: imports & user controls ---\n",
    "\n",
    "from astroquery.mast import Catalogs\n",
    "import pandas as pd\n",
    "import lightkurve as lk\n",
    "import numpy as np\n",
    "import matplotlib.pyplot as plt\n",
    "\n",
    "KOI_CSV   = \"Kepler Objects of Interest.csv\"\n",
    "N_STARS   = 1          # <-- how many unique KICs to process\n",
    "EXPTIME   = 1800\n",
    "DO_PLOTS  = True\n",
    "POINTSIZE = 2\n",
    "ALPHA     = 0.5\n",
    "SAVE_SUMMARY = True\n",
    "SUMMARY_CSV  = \"koi_summary.csv\"\n",
    "\n",
    "# brightness normalization\n",
    "BRIGHTNESS_MODE = \"flux\"   # \"flux\" or \"mmag\"\n",
    "CLIP_PERCENTILE = 0.5      # None to disable robust clipping\n"
   ]
  },
  {
   "cell_type": "code",
   "execution_count": null,
   "id": "7b43feb4-3387-4895-b67b-518d2f53540b",
   "metadata": {},
   "outputs": [],
   "source": "# --- Cell 2: helper functions ---\n\ndef fetch_lightcurve(kepid: int, exptime: int | None = None):\n    \"\"\"Search, download (all), and stitch a Kepler light curve for a given KIC.\"\"\"\n    q = f\"KIC {kepid}\"\n    search = lk.search_lightcurve(q, mission=\"Kepler\", exptime=exptime) if exptime else lk.search_lightcurve(q, mission=\"Kepler\")\n    if len(search) == 0 and exptime is not None:\n        # fall back if that cadence isn't available\n        search = lk.search_lightcurve(q, mission=\"Kepler\")\n    if len(search) == 0:\n        raise RuntimeError(f\"No Kepler light curves found for {q}\")\n    dl = search.download_all()  # LightCurveCollection or LightCurve\n    lc = dl.stitch() if hasattr(dl, \"stitch\") else dl\n    return lc\n\n# --- NEW helper: normalize any 1D array to [-1, 1] ---\ndef normalize_to_unit_symmetric(x, *, clip_percentile=None):\n    \"\"\"\n    Normalize array to [-1, 1] centered on 0.\n    If clip_percentile is set (e.g., 0.5), it clips extremes before scaling for robustness.\n    \"\"\"\n    x = np.asarray(x, dtype=float)\n\n    if clip_percentile is not None:\n        lo = np.nanpercentile(x, clip_percentile)\n        hi = np.nanpercentile(x, 100 - clip_percentile)\n        m = (x >= lo) & (x <= hi) & np.isfinite(x)\n        scale = np.nanmax(np.abs(x[m])) if np.any(m) else np.nanmax(np.abs(x))\n    else:\n        scale = np.nanmax(np.abs(x))\n\n    if not np.isfinite(scale) or scale == 0:\n        return np.zeros_like(x)\n\n    return x / scale  # now in [-1, 1]\n\n# --- UPDATED: prepare_flux_time now returns time and flux in [-1, 1] ---\ndef prepare_flux_time(lc):\n    \"\"\"\n    Return time (BKJD) and flux normalized to [-1, 1].\n    Uses PDCSAP if available. Robust to version differences.\n    \"\"\"\n    tbl = lc.to_table()\n    colnames = set(tbl.colnames)\n\n    # pick flux column\n    if \"pdcsap_flux\" in colnames:\n        raw_flux = tbl[\"pdcsap_flux\"].astype(float)\n    elif \"flux\" in colnames:\n        raw_flux = tbl[\"flux\"].astype(float)\n    else:\n        raise RuntimeError(f\"No suitable flux column found. Available: {sorted(colnames)}\")\n\n    if \"time\" not in colnames:\n        raise RuntimeError(f\"No 'time' column found. Available: {sorted(colnames)}\")\n\n    time = tbl[\"time\"].value.astype(float)\n    flux = np.asarray(raw_flux, dtype=float)\n\n    # finite mask\n    m = np.isfinite(time) & np.isfinite(flux)\n    time = time[m]\n    flux = flux[m]\n\n    # center on 0 by removing the median fractional baseline, then scale to [-1, 1]\n    # 1) relative flux around 1\n    med = np.nanmedian(flux)\n    if not np.isfinite(med) or med == 0:\n        raise RuntimeError(\"Median flux is non-finite or zero; cannot normalize.\")\n    rel = flux / med  # ~1 +/- small variations\n\n    # 2) deviations around 0\n    dev = rel - 1.0\n\n    # 3) scale symmetrically to [-1, 1]\n    dev_norm = normalize_to_unit_symmetric(dev, clip_percentile=0.5)  # adjust/disable clipping if you want\n\n    # dev_norm is now in [-1, 1]\n    return time, dev_norm\n\ndef flux_to_mmag(flux_norm: np.ndarray):\n    \"\"\"Convert normalized flux to mmag (mean-subtracted).\"\"\"\n    # m = -2.5 * log10(F)\n    mag = -2.5 * np.log10(flux_norm)\n    mmag = (mag - np.nanmean(mag)) * 1000.0\n    return mmag\n\ndef compute_phase(time_bkjd: np.ndarray, period_days: float, epoch_bkjd: float):\n    \"\"\"Compute orbital phase in [0,1).\"\"\"\n    return ((time_bkjd - epoch_bkjd) / period_days) % 1.0\n\ndef process_one_koi(row: pd.Series, exptime: int | None, do_plot: bool, i: int | None = None):\n    \"\"\"End-to-end for a single KOI row: download, clean, mmag, phase, optional plot.\"\"\"\n    kepid  = int(row[\"kepid\"])\n    period = float(row[\"koi_period\"])\n    epoch  = float(row[\"koi_time0bk\"])\n\n    print(f\"period, epoch = {period}, {epoch}\")\n\n    print(f\"[{i}] KIC {kepid} | P={period:.6f} d | epoch (BKJD)={epoch:.6f}\")\n\n    lc = fetch_lightcurve(kepid, exptime=exptime)\n    time, flux_norm = prepare_flux_time(lc)\n    mmag  = flux_to_mmag(flux_norm)\n    phase = compute_phase(time, period, epoch)\n\n    if do_plot:\n        plt.figure(figsize=(7,4))\n        plt.scatter(phase, mmag, s=POINTSIZE, alpha=ALPHA)\n        plt.gca().invert_yaxis()  # magnitudes: up = brighter\n        plt.xlabel(\"Orbital Phase\")\n        plt.ylabel(\"Relative Brightness (mmag)\")\n        plt.title(f\"KIC {kepid} — Phase-folded (P={period:.6f} d)\")\n        plt.show()\n\n    return {\n        \"kepid\": kepid,\n        \"koi_period_days\": period,\n        \"koi_epoch_bkjd\": epoch,\n        \"n_points\": len(time),\n        \"mmag_mean\": float(np.nanmean(mmag)),\n        \"mmag_std\":  float(np.nanstd(mmag)),\n        \"mmag_ptp\":  float(np.nanmax(mmag) - np.nanmin(mmag)),\n    }\n\n\n# --- Cell 2: helpers ---\n\ndef fetch_lightcurve(kepid: int, exptime: int | None = None):\n    q = f\"KIC {kepid}\"\n    search = lk.search_lightcurve(q, mission=\"Kepler\", exptime=exptime) if exptime else lk.search_lightcurve(q, mission=\"Kepler\")\n    if len(search) == 0 and exptime is not None:\n        search = lk.search_lightcurve(q, mission=\"Kepler\")\n    if len(search) == 0:\n        raise RuntimeError(f\"No Kepler light curves found for {q}\")\n    dl = search.download_all()\n    lc = dl.stitch() if hasattr(dl, \"stitch\") else dl\n    return lc\n\ndef normalize_to_unit_symmetric(x, clip_percentile=None):\n    x = np.asarray(x, dtype=float)\n    if clip_percentile is not None:\n        lo = np.nanpercentile(x, clip_percentile)\n        hi = np.nanpercentile(x, 100 - clip_percentile)\n        m = np.isfinite(x) & (x >= lo) & (x <= hi)\n        scale = np.nanmax(np.abs(x[m])) if np.any(m) else np.nanmax(np.abs(x))\n    else:\n        scale = np.nanmax(np.abs(x))\n    if not np.isfinite(scale) or scale == 0:\n        return np.zeros_like(x)\n    return x / scale\n\ndef prepare_time_and_relflux(lc):\n    tbl = lc.to_table()\n    cn = set(tbl.colnames)\n    if \"time\" not in cn:\n        raise RuntimeError(f\"No 'time' column. Available: {sorted(cn)}\")\n    if \"pdcsap_flux\" in cn:\n        raw_flux = np.asarray(tbl[\"pdcsap_flux\"], dtype=float)\n    elif \"flux\" in cn:\n        raw_flux = np.asarray(tbl[\"flux\"], dtype=float)\n    else:\n        raise RuntimeError(f\"No flux column. Available: {sorted(cn)}\")\n    time = tbl[\"time\"].value.astype(float)\n    m = np.isfinite(time) & np.isfinite(raw_flux)\n    time = time[m]; raw_flux = raw_flux[m]\n    med = np.nanmedian(raw_flux)\n    if not np.isfinite(med) or med == 0:\n        raise RuntimeError(\"Median flux is non-finite or zero.\")\n    rel = raw_flux / med     # ~1 +/- small variations\n    return time, rel\n\ndef brightness_normalized(rel_flux, mode=\"flux\", clip_percentile=None):\n    if mode == \"flux\":\n        dev = rel_flux - 1.0\n        return normalize_to_unit_symmetric(dev, clip_percentile)\n    elif mode == \"mmag\":\n        mag = -2.5 * np.log10(rel_flux)\n        mag_dev = mag - np.nanmedian(mag)\n        return normalize_to_unit_symmetric(mag_dev, clip_percentile)\n    else:\n        raise ValueError(\"BRIGHTNESS_MODE must be 'flux' or 'mmag'\")\n\ndef compute_phase(time_bkjd: np.ndarray, period_days: float, epoch_bkjd: float):\n    return ((time_bkjd - epoch_bkjd) / period_days) % 1.0\n"
  },
  {
   "cell_type": "code",
   "execution_count": 80,
   "id": "c2c82c3a",
   "metadata": {},
   "outputs": [
    {
     "name": "stdout",
     "output_type": "stream",
     "text": [
      "Loaded 9564 KOI rows from: Kepler Objects of Interest.csv\n"
     ]
    },
    {
     "data": {
      "text/html": [
       "<div>\n",
       "<style scoped>\n",
       "    .dataframe tbody tr th:only-of-type {\n",
       "        vertical-align: middle;\n",
       "    }\n",
       "\n",
       "    .dataframe tbody tr th {\n",
       "        vertical-align: top;\n",
       "    }\n",
       "\n",
       "    .dataframe thead th {\n",
       "        text-align: right;\n",
       "    }\n",
       "</style>\n",
       "<table border=\"1\" class=\"dataframe\">\n",
       "  <thead>\n",
       "    <tr style=\"text-align: right;\">\n",
       "      <th></th>\n",
       "      <th>kepid</th>\n",
       "      <th>kepoi_name</th>\n",
       "      <th>koi_period</th>\n",
       "      <th>koi_time0bk</th>\n",
       "    </tr>\n",
       "  </thead>\n",
       "  <tbody>\n",
       "    <tr>\n",
       "      <th>0</th>\n",
       "      <td>10797460</td>\n",
       "      <td>K00752.01</td>\n",
       "      <td>9.488036</td>\n",
       "      <td>170.538750</td>\n",
       "    </tr>\n",
       "    <tr>\n",
       "      <th>1</th>\n",
       "      <td>10797460</td>\n",
       "      <td>K00752.02</td>\n",
       "      <td>54.418383</td>\n",
       "      <td>162.513840</td>\n",
       "    </tr>\n",
       "    <tr>\n",
       "      <th>2</th>\n",
       "      <td>10811496</td>\n",
       "      <td>K00753.01</td>\n",
       "      <td>19.899140</td>\n",
       "      <td>175.850252</td>\n",
       "    </tr>\n",
       "    <tr>\n",
       "      <th>3</th>\n",
       "      <td>10848459</td>\n",
       "      <td>K00754.01</td>\n",
       "      <td>1.736952</td>\n",
       "      <td>170.307565</td>\n",
       "    </tr>\n",
       "  </tbody>\n",
       "</table>\n",
       "</div>"
      ],
      "text/plain": [
       "      kepid kepoi_name  koi_period  koi_time0bk\n",
       "0  10797460  K00752.01    9.488036   170.538750\n",
       "1  10797460  K00752.02   54.418383   162.513840\n",
       "2  10811496  K00753.01   19.899140   175.850252\n",
       "3  10848459  K00754.01    1.736952   170.307565"
      ]
     },
     "metadata": {},
     "output_type": "display_data"
    }
   ],
   "source": [
    "# --- Cell 3: load KOI table ---\n",
    "\n",
    "df = pd.read_csv(KOI_CSV, comment=\"#\")\n",
    "print(f\"Loaded {len(df)} KOI rows from: {KOI_CSV}\")\n",
    "display(df.head(4)[[\"kepid\",\"kepoi_name\",\"koi_period\",\"koi_time0bk\"]])\n",
    "\n",
    "# We'll process by unique kepid (stars)\n",
    "unique_kics = df[\"kepid\"].dropna().astype(int).unique().tolist()\n",
    "if N_STARS > len(unique_kics):\n",
    "    print(f\"N_STARS={N_STARS} > {len(unique_kics)} available; processing all.\")\n",
    "    N_STARS = len(unique_kics)\n"
   ]
  },
  {
   "cell_type": "code",
   "execution_count": 81,
   "id": "5bef272b-77d2-45e3-814a-922e45d74702",
   "metadata": {},
   "outputs": [],
   "source": [
    "# --- Cell 4: per-star overlay plotting of all planets ---\n",
    "\n",
    "def plot_star_with_planets(kepid: int, subdf: pd.DataFrame, exptime: int | None = EXPTIME):\n",
    "    print(f\"\\nKIC {kepid}: {len(subdf)} planet(s) — downloading light curve once...\")\n",
    "    lc = fetch_lightcurve(kepid, exptime=exptime)\n",
    "    time, rel_flux = prepare_time_and_relflux(lc)\n",
    "    bnorm = brightness_normalized(rel_flux, mode=BRIGHTNESS_MODE, clip_percentile=CLIP_PERCENTILE)\n",
    "\n",
    "    if DO_PLOTS:\n",
    "        plt.figure(figsize=(7,4))\n",
    "\n",
    "    summaries = []\n",
    "    for _, row in subdf.iterrows():\n",
    "        pname = str(row.get(\"kepoi_name\", \"KOI\"))\n",
    "        period = float(row[\"koi_period\"])\n",
    "        epoch  = float(row[\"koi_time0bk\"])\n",
    "        phase = compute_phase(time, period, epoch)\n",
    "\n",
    "        # Plot this planet's phase-folded brightness on the same axes\n",
    "        if DO_PLOTS:\n",
    "            plt.scatter(phase, bnorm, s=POINTSIZE, alpha=ALPHA, label=pname)\n",
    "\n",
    "        summaries.append({\n",
    "            \"kepid\": kepid,\n",
    "            \"planet\": pname,\n",
    "            \"koi_period_days\": period,\n",
    "            \"koi_epoch_bkjd\": epoch,\n",
    "            \"n_points\": len(time),\n",
    "            \"brightness_min\": float(np.nanmin(bnorm)),\n",
    "            \"brightness_max\": float(np.nanmax(bnorm)),\n",
    "            \"brightness_std\": float(np.nanstd(bnorm)),\n",
    "        })\n",
    "\n",
    "    if DO_PLOTS:\n",
    "        plt.xlabel(\"Orbital Phase\")\n",
    "        ylab = \"Normalized Brightness [-1, 1] (flux)\" if BRIGHTNESS_MODE==\"flux\" else \"Normalized Brightness [-1, 1] (mmag)\"\n",
    "        plt.ylabel(ylab)\n",
    "        plt.title(f\"KIC {kepid} — Phase-folded (all planets)\")\n",
    "        plt.ylim(-1.05, 1.05)\n",
    "        plt.legend(markerscale=4, fontsize=8, loc=\"best\", frameon=True)\n",
    "        plt.show()\n",
    "\n",
    "    return summaries\n"
   ]
  },
  {
   "cell_type": "code",
   "execution_count": 82,
   "id": "9b0f95dc",
   "metadata": {},
   "outputs": [
    {
     "name": "stdout",
     "output_type": "stream",
     "text": [
      "\n",
      "KIC 10797460: 2 planet(s) — downloading light curve once...\n",
      "!! Skipped KIC 10797460: setting an array element with a sequence.\n",
      "\n",
      "Finished. Summary rows: 0\n"
     ]
    },
    {
     "data": {
      "text/html": [
       "<div>\n",
       "<style scoped>\n",
       "    .dataframe tbody tr th:only-of-type {\n",
       "        vertical-align: middle;\n",
       "    }\n",
       "\n",
       "    .dataframe tbody tr th {\n",
       "        vertical-align: top;\n",
       "    }\n",
       "\n",
       "    .dataframe thead th {\n",
       "        text-align: right;\n",
       "    }\n",
       "</style>\n",
       "<table border=\"1\" class=\"dataframe\">\n",
       "  <thead>\n",
       "    <tr style=\"text-align: right;\">\n",
       "      <th></th>\n",
       "    </tr>\n",
       "  </thead>\n",
       "  <tbody>\n",
       "  </tbody>\n",
       "</table>\n",
       "</div>"
      ],
      "text/plain": [
       "Empty DataFrame\n",
       "Columns: []\n",
       "Index: []"
      ]
     },
     "metadata": {},
     "output_type": "display_data"
    }
   ],
   "source": [
    "# --- Cell 5: run batch over unique stars ---\n",
    "\n",
    "results = []\n",
    "for kepid in unique_kics[:N_STARS]:\n",
    "    sub = df[df[\"kepid\"] == kepid].copy()\n",
    "    try:\n",
    "        results.extend(plot_star_with_planets(int(kepid), sub, exptime=EXPTIME))\n",
    "    except Exception as e:\n",
    "        print(f\"!! Skipped KIC {kepid}: {e}\")\n",
    "\n",
    "summary = pd.DataFrame(results)\n",
    "print(\"\\nFinished. Summary rows:\", len(summary))\n",
    "display(summary)\n"
   ]
  }
 ],
 "metadata": {
  "kernelspec": {
   "display_name": "data-cleaning",
   "language": "python",
   "name": "python3"
  },
  "language_info": {
   "codemirror_mode": {
    "name": "ipython",
    "version": 3
   },
   "file_extension": ".py",
   "mimetype": "text/x-python",
   "name": "python",
   "nbconvert_exporter": "python",
   "pygments_lexer": "ipython3",
   "version": "3.12.9"
  }
 },
 "nbformat": 4,
 "nbformat_minor": 5
}