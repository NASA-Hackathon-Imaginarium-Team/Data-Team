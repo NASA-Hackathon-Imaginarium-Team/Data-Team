{
 "cells": [
  {
   "cell_type": "code",
   "execution_count": null,
   "id": "b13e8418-9a6d-4d32-89cf-4f32bff5b791",
   "metadata": {},
   "outputs": [],
   "source": [
    "from astroquery.mast import Catalogs\n",
    "import pandas as pd\n",
    "import lightkurve as lk\n",
    "import numpy as np\n",
    "import matplotlib.pyplot as plt\n",
    "\n",
    "\n",
    "# open the kepler object of interest dataset\n",
    "df = pd.read_csv('Kepler Objects of Interest.csv', comment='#')\n",
    "\n",
    "# for the first, get the light curve data for the first star in the dataset\n",
    "print(df['kepid'][0])\n",
    "lc_collection = lk.search_lightcurve(f\"KIC {df['kepid'][0]}\", mission=\"Kepler\", exptime=1800).download()\n",
    "lc_collection"
   ]
  },
  {
   "cell_type": "code",
   "execution_count": null,
   "id": "7b43feb4-3387-4895-b67b-518d2f53540b",
   "metadata": {},
   "outputs": [],
   "source": [
    "# yoink time and pdcsap_flux\n",
    "time = lc_collection.time\n",
    "flux = lc_collection.pdcsap_flux\n",
    "# normalize the flux\n",
    "flux = (flux - flux.mean()) / flux.std()\n",
    "flux_magnitude = -2.5 * np.log10(flux)\n",
    "mmag = (flux_magnitude - np.median(flux_magnitude)) * 1000\n",
    "\n",
    "# period\n",
    "period = df['koi_period'][0]\n",
    "# epoch\n",
    "epoch = df['koi_time0bk'][0]\n",
    "\n",
    "# phase: (time - epoch)/period MOD 1\n",
    "phase = ((time - epoch) / period) % 1"
   ]
  },
  {
   "cell_type": "code",
   "execution_count": null,
   "id": "5bef272b-77d2-45e3-814a-922e45d74702",
   "metadata": {},
   "outputs": [],
   "source": [
    "# Save to CSV file\n",
    "output_file = f\"lightcurve_KIC_{df['kepid'][0]}.csv\"\n",
    "lc.to_pandas().to_csv(output_file, index=False)\n",
    "print(f\"Combined light curve saved to {output_file}\")\n"
   ]
  }
 ],
 "metadata": {
  "kernelspec": {
   "display_name": "Python 3 (ipykernel)",
   "language": "python",
   "name": "python3"
  },
  "language_info": {
   "codemirror_mode": {
    "name": "ipython",
    "version": 3
   },
   "file_extension": ".py",
   "mimetype": "text/x-python",
   "name": "python",
   "nbconvert_exporter": "python",
   "pygments_lexer": "ipython3",
   "version": "3.13.7"
  }
 },
 "nbformat": 4,
 "nbformat_minor": 5
}
